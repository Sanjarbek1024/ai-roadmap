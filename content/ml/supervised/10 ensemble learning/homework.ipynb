{
 "cells": [
  {
   "cell_type": "markdown",
   "id": "8dea6a2e",
   "metadata": {},
   "source": [
    "Dataset:\n",
    "Use any of the following datasets (your choice):\n",
    "\n",
    "load_breast_cancer() from sklearn.datasets\n",
    "\n",
    "Iris dataset\n",
    "\n",
    "Titanic dataset (if using Pandas)\n"
   ]
  },
  {
   "cell_type": "code",
   "execution_count": 5,
   "id": "a0677de5",
   "metadata": {},
   "outputs": [],
   "source": [
    "from sklearn.datasets import load_breast_cancer\n",
    "from sklearn.model_selection import train_test_split\n",
    "from sklearn.preprocessing import StandardScaler\n",
    "\n",
    "data = load_breast_cancer()\n",
    "X = data.data\n",
    "y = data.target\n",
    "\n",
    "X_train, X_test, y_train, y_test = train_test_split(X, y, test_size=0.2, random_state=42)\n",
    "\n",
    "scaler = StandardScaler()\n",
    "X_train = scaler.fit_transform(X_train)\n",
    "X_test = scaler.transform(X_test)"
   ]
  },
  {
   "cell_type": "markdown",
   "id": "b74f25e4",
   "metadata": {},
   "source": [
    "\n",
    "### Tasks:\n",
    "\n",
    "#### **1. Voting Classifier**\n",
    "Load the dataset and preprocess it (e.g., train/test split, scaling).\n",
    "\n",
    "Build 3 different classifiers: Logistic Regression, SVM, KNN.\n",
    "\n",
    "Combine them into a VotingClassifier (use soft voting).\n",
    "\n",
    "Evaluate and print the accuracy.\n",
    "\n",
    "\n",
    "#### **2. Bagging**\n",
    "\n",
    "Use a BaggingClassifier with Decision Trees or directly use RandomForestClassifier.\n",
    "\n",
    "Train the model and evaluate on test data.\n",
    "\n",
    "Try changing the number of trees (n_estimators) and observe the effect.\n",
    "\n",
    "\n",
    "#### **3. Boosting**\n",
    "\n",
    "Use GradientBoostingClassifier or AdaBoostClassifier.\n",
    "\n",
    "Train on the same dataset.\n",
    "\n",
    "Report accuracy and compare to bagging.\n",
    "\n",
    "\n",
    "#### **4. Stacking**\n",
    "Choose 2–3 base models (e.g., Logistic Regression, Random Forest, SVM).\n",
    "\n",
    "Use StackingClassifier with a final estimator (e.g., Logistic Regression).\n",
    "\n",
    "Train and evaluate the model.\n"
   ]
  },
  {
   "cell_type": "code",
   "execution_count": 6,
   "id": "f535cc74",
   "metadata": {},
   "outputs": [
    {
     "name": "stdout",
     "output_type": "stream",
     "text": [
      "Voting Classifier Accuracy: 0.9649\n"
     ]
    }
   ],
   "source": [
    "# Voting Classifier\n",
    "\n",
    "from sklearn.linear_model import LogisticRegression\n",
    "from sklearn.svm import SVC\n",
    "from sklearn.neighbors import KNeighborsClassifier\n",
    "from sklearn.ensemble import VotingClassifier\n",
    "from sklearn.metrics import accuracy_score\n",
    "\n",
    "log_clf = LogisticRegression(max_iter=1000, random_state=42)\n",
    "svc_clf = SVC(probability=True, random_state=42)\n",
    "knn_clf = KNeighborsClassifier()\n",
    "\n",
    "voting_clf = VotingClassifier(estimators=[\n",
    "    ('log_clf', log_clf), \n",
    "    ('svc_clf', svc_clf), \n",
    "    ('knn_clf', knn_clf)\n",
    "], voting='soft')\n",
    "\n",
    "voting_clf.fit(X_train, y_train)\n",
    "y_pred_voting = voting_clf.predict(X_test)\n",
    "acc_voting = accuracy_score(y_test, y_pred_voting)\n",
    "print(f\"Voting Classifier Accuracy: {acc_voting:.4f}\")"
   ]
  },
  {
   "cell_type": "code",
   "execution_count": 9,
   "id": "97cec041",
   "metadata": {},
   "outputs": [
    {
     "name": "stdout",
     "output_type": "stream",
     "text": [
      "Random Forest Accuracy (100 trees): 0.9649\n",
      "Random Forest Accuracy (10 trees): 0.9561\n",
      "Accuracy: 0.956140350877193\n"
     ]
    }
   ],
   "source": [
    "# Bagging (RandomForest)\n",
    "from sklearn.ensemble import BaggingClassifier \n",
    "from sklearn.tree import DecisionTreeClassifier\n",
    "from sklearn.ensemble import RandomForestClassifier\n",
    "\n",
    "rf_clf = RandomForestClassifier(n_estimators=100, random_state=42)\n",
    "rf_clf.fit(X_train, y_train)\n",
    "y_pred_rf = rf_clf.predict(X_test)\n",
    "acc_rf = accuracy_score(y_test, y_pred_rf)\n",
    "print(f\"Random Forest Accuracy (100 trees): {acc_rf:.4f}\")\n",
    "\n",
    "# Try with fewer trees\n",
    "rf_clf_small = RandomForestClassifier(n_estimators=10, random_state=42)\n",
    "rf_clf_small.fit(X_train, y_train)\n",
    "y_pred_rf_small = rf_clf_small.predict(X_test)\n",
    "acc_rf_small = accuracy_score(y_test, y_pred_rf_small)\n",
    "print(f\"Random Forest Accuracy (10 trees): {acc_rf_small:.4f}\")\n",
    "\n",
    "\n",
    "model = BaggingClassifier(\n",
    "    estimator=DecisionTreeClassifier(max_depth=5, random_state=42),\n",
    "    n_estimators=50,        # 50 ta daraxt\n",
    "    bootstrap=True,\n",
    "    random_state=42\n",
    ")\n",
    "\n",
    "model.fit(X_train, y_train)\n",
    "y_pred = model.predict(X_test)\n",
    "print(\"Accuracy:\", accuracy_score(y_test, y_pred))"
   ]
  },
  {
   "cell_type": "code",
   "execution_count": 10,
   "id": "46631baf",
   "metadata": {},
   "outputs": [
    {
     "name": "stdout",
     "output_type": "stream",
     "text": [
      "Gradient Boosting Accuracy: 0.9561\n",
      "AdaBoost Accuracy: 0.9649\n"
     ]
    }
   ],
   "source": [
    "# Boosting\n",
    "\n",
    "from sklearn.ensemble import GradientBoostingClassifier, AdaBoostClassifier\n",
    "\n",
    "# Gradient Boosting\n",
    "gb_clf = GradientBoostingClassifier(random_state=42)\n",
    "gb_clf.fit(X_train, y_train)\n",
    "y_pred_gb = gb_clf.predict(X_test)\n",
    "acc_gb = accuracy_score(y_test, y_pred_gb)\n",
    "print(f\"Gradient Boosting Accuracy: {acc_gb:.4f}\")\n",
    "\n",
    "# AdaBoost\n",
    "ada_clf = AdaBoostClassifier(random_state=42)\n",
    "ada_clf.fit(X_train, y_train)\n",
    "y_pred_ada = ada_clf.predict(X_test)\n",
    "acc_ada = accuracy_score(y_test, y_pred_ada)\n",
    "print(f\"AdaBoost Accuracy: {acc_ada:.4f}\")"
   ]
  },
  {
   "cell_type": "code",
   "execution_count": 11,
   "id": "a3e4d502",
   "metadata": {},
   "outputs": [
    {
     "name": "stdout",
     "output_type": "stream",
     "text": [
      "Stacking Classifier Accuracy: 0.9737\n"
     ]
    }
   ],
   "source": [
    "# Stacking\n",
    "\n",
    "from sklearn.ensemble import StackingClassifier\n",
    "\n",
    "\n",
    "estimators = [\n",
    "    ('lr', LogisticRegression(max_iter=1000, random_state=42)),\n",
    "    ('rf', RandomForestClassifier(n_estimators=50, random_state=42)),\n",
    "    ('svm', SVC(probability=True, random_state=42))\n",
    "]\n",
    "\n",
    "stack_clf = StackingClassifier(\n",
    "    estimators=estimators,\n",
    "    final_estimator=LogisticRegression(),\n",
    "    passthrough=False\n",
    ")\n",
    "\n",
    "stack_clf.fit(X_train, y_train)\n",
    "y_pred_stack = stack_clf.predict(X_test)\n",
    "acc_stack = accuracy_score(y_test, y_pred_stack)\n",
    "print(f\"Stacking Classifier Accuracy: {acc_stack:.4f}\")"
   ]
  }
 ],
 "metadata": {
  "kernelspec": {
   "display_name": "Python 3",
   "language": "python",
   "name": "python3"
  },
  "language_info": {
   "codemirror_mode": {
    "name": "ipython",
    "version": 3
   },
   "file_extension": ".py",
   "mimetype": "text/x-python",
   "name": "python",
   "nbconvert_exporter": "python",
   "pygments_lexer": "ipython3",
   "version": "3.10.10"
  }
 },
 "nbformat": 4,
 "nbformat_minor": 5
}
