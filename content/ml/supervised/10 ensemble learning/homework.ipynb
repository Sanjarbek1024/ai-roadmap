{
 "cells": [
  {
   "cell_type": "markdown",
   "id": "8dea6a2e",
   "metadata": {},
   "source": [
    "Dataset:\n",
    "Use any of the following datasets (your choice):\n",
    "\n",
    "load_breast_cancer() from sklearn.datasets\n",
    "\n",
    "Iris dataset\n",
    "\n",
    "Titanic dataset (if using Pandas)\n"
   ]
  },
  {
   "cell_type": "code",
   "execution_count": null,
   "id": "a0677de5",
   "metadata": {},
   "outputs": [],
   "source": []
  },
  {
   "cell_type": "markdown",
   "id": "b74f25e4",
   "metadata": {},
   "source": [
    "\n",
    "### Tasks:\n",
    "\n",
    "#### **1. Voting Classifier**\n",
    "Load the dataset and preprocess it (e.g., train/test split, scaling).\n",
    "\n",
    "Build 3 different classifiers: Logistic Regression, SVM, KNN.\n",
    "\n",
    "Combine them into a VotingClassifier (use soft voting).\n",
    "\n",
    "Evaluate and print the accuracy.\n",
    "\n",
    "\n",
    "#### **2. Bagging**\n",
    "\n",
    "Use a BaggingClassifier with Decision Trees or directly use RandomForestClassifier.\n",
    "\n",
    "Train the model and evaluate on test data.\n",
    "\n",
    "Try changing the number of trees (n_estimators) and observe the effect.\n",
    "\n",
    "\n",
    "#### **3. Boosting**\n",
    "\n",
    "Use GradientBoostingClassifier or AdaBoostClassifier.\n",
    "\n",
    "Train on the same dataset.\n",
    "\n",
    "Report accuracy and compare to bagging.\n",
    "\n",
    "\n",
    "#### **4. Stacking**\n",
    "Choose 2–3 base models (e.g., Logistic Regression, Random Forest, SVM).\n",
    "\n",
    "Use StackingClassifier with a final estimator (e.g., Logistic Regression).\n",
    "\n",
    "Train and evaluate the model.\n"
   ]
  }
 ],
 "metadata": {
  "kernelspec": {
   "display_name": "base",
   "language": "python",
   "name": "python3"
  },
  "language_info": {
   "name": "python",
   "version": "3.11.7"
  }
 },
 "nbformat": 4,
 "nbformat_minor": 5
}
